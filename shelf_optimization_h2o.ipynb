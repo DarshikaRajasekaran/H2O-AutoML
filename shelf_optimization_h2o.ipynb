{
 "cells": [
  {
   "cell_type": "code",
   "execution_count": 1,
   "metadata": {},
   "outputs": [],
   "source": [
    "import h2o"
   ]
  },
  {
   "cell_type": "code",
   "execution_count": 3,
   "metadata": {},
   "outputs": [
    {
     "name": "stdout",
     "output_type": "stream",
     "text": [
      "Checking whether there is an H2O instance running at http://localhost:54321 . connected.\n",
      "Warning: Your H2O cluster version is too old (3 months and 28 days)! Please download and install the latest version from http://h2o.ai/download/\n"
     ]
    },
    {
     "data": {
      "text/html": [
       "<div style=\"overflow:auto\"><table style=\"width:50%\"><tr><td>H2O cluster uptime:</td>\n",
       "<td>1 hour 12 mins</td></tr>\n",
       "<tr><td>H2O cluster timezone:</td>\n",
       "<td>America/Chicago</td></tr>\n",
       "<tr><td>H2O data parsing timezone:</td>\n",
       "<td>UTC</td></tr>\n",
       "<tr><td>H2O cluster version:</td>\n",
       "<td>3.26.0.2</td></tr>\n",
       "<tr><td>H2O cluster version age:</td>\n",
       "<td>3 months and 28 days !!!</td></tr>\n",
       "<tr><td>H2O cluster name:</td>\n",
       "<td>H2O_started_from_R_Darshika_Rajasekaran_xsq716</td></tr>\n",
       "<tr><td>H2O cluster total nodes:</td>\n",
       "<td>1</td></tr>\n",
       "<tr><td>H2O cluster free memory:</td>\n",
       "<td>3.287 Gb</td></tr>\n",
       "<tr><td>H2O cluster total cores:</td>\n",
       "<td>8</td></tr>\n",
       "<tr><td>H2O cluster allowed cores:</td>\n",
       "<td>8</td></tr>\n",
       "<tr><td>H2O cluster status:</td>\n",
       "<td>locked, healthy</td></tr>\n",
       "<tr><td>H2O connection url:</td>\n",
       "<td>http://localhost:54321</td></tr>\n",
       "<tr><td>H2O connection proxy:</td>\n",
       "<td>None</td></tr>\n",
       "<tr><td>H2O internal security:</td>\n",
       "<td>False</td></tr>\n",
       "<tr><td>H2O API Extensions:</td>\n",
       "<td>Amazon S3, Algos, AutoML, Core V3, Core V4</td></tr>\n",
       "<tr><td>Python version:</td>\n",
       "<td>3.6.9 final</td></tr></table></div>"
      ],
      "text/plain": [
       "--------------------------  ----------------------------------------------\n",
       "H2O cluster uptime:         1 hour 12 mins\n",
       "H2O cluster timezone:       America/Chicago\n",
       "H2O data parsing timezone:  UTC\n",
       "H2O cluster version:        3.26.0.2\n",
       "H2O cluster version age:    3 months and 28 days !!!\n",
       "H2O cluster name:           H2O_started_from_R_Darshika_Rajasekaran_xsq716\n",
       "H2O cluster total nodes:    1\n",
       "H2O cluster free memory:    3.287 Gb\n",
       "H2O cluster total cores:    8\n",
       "H2O cluster allowed cores:  8\n",
       "H2O cluster status:         locked, healthy\n",
       "H2O connection url:         http://localhost:54321\n",
       "H2O connection proxy:\n",
       "H2O internal security:      False\n",
       "H2O API Extensions:         Amazon S3, Algos, AutoML, Core V3, Core V4\n",
       "Python version:             3.6.9 final\n",
       "--------------------------  ----------------------------------------------"
      ]
     },
     "metadata": {},
     "output_type": "display_data"
    }
   ],
   "source": [
    "h2o.init()"
   ]
  },
  {
   "cell_type": "code",
   "execution_count": 9,
   "metadata": {},
   "outputs": [],
   "source": [
    "import pandas as pd\n",
    "from h2o.automl import H2OAutoML"
   ]
  },
  {
   "cell_type": "code",
   "execution_count": 36,
   "metadata": {},
   "outputs": [
    {
     "name": "stdout",
     "output_type": "stream",
     "text": [
      "Parse progress: |█████████████████████████████████████████████████████████| 100%\n",
      "Parse progress: |█████████████████████████████████████████████████████████| 100%\n"
     ]
    }
   ],
   "source": [
    "train_set=h2o.import_file(\"C:/Users/Darshika Rajasekaran/Desktop/fall 2019/directed reading/bigmart_train.csv\")\n",
    "test_set=h2o.import_file(\"C:/Users/Darshika Rajasekaran/Desktop/fall 2019/directed reading/bigmart_test.csv\")"
   ]
  },
  {
   "cell_type": "code",
   "execution_count": 39,
   "metadata": {},
   "outputs": [
    {
     "name": "stdout",
     "output_type": "stream",
     "text": [
      "Rows:8523\n",
      "Cols:12\n",
      "\n",
      "\n"
     ]
    },
    {
     "data": {
      "text/html": [
       "<table>\n",
       "<thead>\n",
       "<tr><th>       </th><th>Item_Identifier  </th><th>Item_Weight       </th><th>Item_Fat_Content  </th><th>Item_Visibility    </th><th>Item_Type            </th><th>Item_MRP          </th><th>Outlet_Identifier  </th><th>Outlet_Establishment_Year  </th><th>Outlet_Size  </th><th>Outlet_Location_Type  </th><th>Outlet_Type      </th><th>Item_Outlet_Sales  </th></tr>\n",
       "</thead>\n",
       "<tbody>\n",
       "<tr><td>type   </td><td>enum             </td><td>real              </td><td>enum              </td><td>real               </td><td>enum                 </td><td>real              </td><td>enum               </td><td>int                        </td><td>enum         </td><td>enum                  </td><td>enum             </td><td>real               </td></tr>\n",
       "<tr><td>mins   </td><td>                 </td><td>4.555             </td><td>                  </td><td>0.0                </td><td>                     </td><td>31.29             </td><td>                   </td><td>1985.0                     </td><td>             </td><td>                      </td><td>                 </td><td>33.29              </td></tr>\n",
       "<tr><td>mean   </td><td>                 </td><td>12.856332864015018</td><td>                  </td><td>0.06613202877895108</td><td>                     </td><td>140.9927819781767 </td><td>                   </td><td>1997.8318667135984         </td><td>             </td><td>                      </td><td>                 </td><td>2181.288913575032  </td></tr>\n",
       "<tr><td>maxs   </td><td>                 </td><td>21.35             </td><td>                  </td><td>0.328390948        </td><td>                     </td><td>266.8884          </td><td>                   </td><td>2009.0                     </td><td>             </td><td>                      </td><td>                 </td><td>13086.9648         </td></tr>\n",
       "<tr><td>sigma  </td><td>                 </td><td>4.2261247079068385</td><td>                  </td><td>0.05159782232113512</td><td>                     </td><td>62.275066512190456</td><td>                   </td><td>8.371760408092644          </td><td>             </td><td>                      </td><td>                 </td><td>1706.4996157338328 </td></tr>\n",
       "<tr><td>zeros  </td><td>                 </td><td>0                 </td><td>                  </td><td>526                </td><td>                     </td><td>0                 </td><td>                   </td><td>0                          </td><td>             </td><td>                      </td><td>                 </td><td>0                  </td></tr>\n",
       "<tr><td>missing</td><td>0                </td><td>0                 </td><td>0                 </td><td>0                  </td><td>0                    </td><td>0                 </td><td>0                  </td><td>0                          </td><td>0            </td><td>0                     </td><td>0                </td><td>0                  </td></tr>\n",
       "<tr><td>0      </td><td>FDA15            </td><td>9.3               </td><td>Low Fat           </td><td>0.016047301        </td><td>Dairy                </td><td>249.8092          </td><td>OUT049             </td><td>1999.0                     </td><td>Medium       </td><td>Tier 1                </td><td>Supermarket Type1</td><td>3735.138           </td></tr>\n",
       "<tr><td>1      </td><td>DRC01            </td><td>5.92              </td><td>Regular           </td><td>0.019278216        </td><td>Soft Drinks          </td><td>48.2692           </td><td>OUT018             </td><td>2009.0                     </td><td>Medium       </td><td>Tier 3                </td><td>Supermarket Type2</td><td>443.4228           </td></tr>\n",
       "<tr><td>2      </td><td>FDN15            </td><td>17.5              </td><td>Low Fat           </td><td>0.016760075        </td><td>Meat                 </td><td>141.618           </td><td>OUT049             </td><td>1999.0                     </td><td>Medium       </td><td>Tier 1                </td><td>Supermarket Type1</td><td>2097.27            </td></tr>\n",
       "<tr><td>3      </td><td>FDX07            </td><td>19.2              </td><td>Regular           </td><td>0.0                </td><td>Fruits and Vegetables</td><td>182.095           </td><td>OUT010             </td><td>1998.0                     </td><td>Unknown      </td><td>Tier 3                </td><td>Grocery Store    </td><td>732.38             </td></tr>\n",
       "<tr><td>4      </td><td>NCD19            </td><td>8.93              </td><td>Low Fat           </td><td>0.0                </td><td>Household            </td><td>53.8614           </td><td>OUT013             </td><td>1987.0                     </td><td>High         </td><td>Tier 3                </td><td>Supermarket Type1</td><td>994.7052           </td></tr>\n",
       "<tr><td>5      </td><td>FDP36            </td><td>10.395            </td><td>Regular           </td><td>0.0                </td><td>Baking Goods         </td><td>51.4008           </td><td>OUT018             </td><td>2009.0                     </td><td>Medium       </td><td>Tier 3                </td><td>Supermarket Type2</td><td>556.6088           </td></tr>\n",
       "<tr><td>6      </td><td>FDO10            </td><td>13.65             </td><td>Regular           </td><td>0.012741089        </td><td>Snack Foods          </td><td>57.6588           </td><td>OUT013             </td><td>1987.0                     </td><td>High         </td><td>Tier 3                </td><td>Supermarket Type1</td><td>343.5528           </td></tr>\n",
       "<tr><td>7      </td><td>FDP10            </td><td>12.85             </td><td>Low Fat           </td><td>0.127469857        </td><td>Snack Foods          </td><td>107.7622          </td><td>OUT027             </td><td>1985.0                     </td><td>Medium       </td><td>Tier 3                </td><td>Supermarket Type3</td><td>4022.7636          </td></tr>\n",
       "<tr><td>8      </td><td>FDH17            </td><td>16.2              </td><td>Regular           </td><td>0.016687114        </td><td>Frozen Foods         </td><td>96.9726           </td><td>OUT045             </td><td>2002.0                     </td><td>Unknown      </td><td>Tier 2                </td><td>Supermarket Type1</td><td>1076.5986          </td></tr>\n",
       "<tr><td>9      </td><td>FDU28            </td><td>19.2              </td><td>Regular           </td><td>0.09444959         </td><td>Frozen Foods         </td><td>187.8214          </td><td>OUT017             </td><td>2007.0                     </td><td>Unknown      </td><td>Tier 2                </td><td>Supermarket Type1</td><td>4710.535           </td></tr>\n",
       "</tbody>\n",
       "</table>"
      ]
     },
     "metadata": {},
     "output_type": "display_data"
    }
   ],
   "source": [
    "train_set.describe()"
   ]
  },
  {
   "cell_type": "code",
   "execution_count": null,
   "metadata": {},
   "outputs": [],
   "source": []
  },
  {
   "cell_type": "code",
   "execution_count": null,
   "metadata": {},
   "outputs": [],
   "source": []
  },
  {
   "cell_type": "code",
   "execution_count": 40,
   "metadata": {},
   "outputs": [],
   "source": [
    "tgt= \"Item_Outlet_Sales\"\n",
    "source=[\"Item_Identifier\",\"Item_Weight\",\"Item_Fat_Content\",\"Item_Visibility\",\"Item_Type\",\"Item_MRP\",\"Outlet_Identifier\",\"Outlet_Establishment_Year\",\"Outlet_Size\",\"Outlet_Location_Type\",\"Outlet_Type\"]"
   ]
  },
  {
   "cell_type": "code",
   "execution_count": 41,
   "metadata": {},
   "outputs": [
    {
     "name": "stdout",
     "output_type": "stream",
     "text": [
      "AutoML progress: |████████████████████████████████████████████████████████| 100%\n"
     ]
    }
   ],
   "source": [
    "aml=H2OAutoML(max_models=30,max_runtime_secs=300,seed=1)\n",
    "aml.train(x=source,y=tgt,training_frame=train_set)"
   ]
  },
  {
   "cell_type": "code",
   "execution_count": 42,
   "metadata": {
    "scrolled": true
   },
   "outputs": [
    {
     "data": {
      "text/html": [
       "<table>\n",
       "<thead>\n",
       "<tr><th>model_id                                          </th><th style=\"text-align: right;\">  mean_residual_deviance</th><th style=\"text-align: right;\">   rmse</th><th style=\"text-align: right;\">        mse</th><th style=\"text-align: right;\">    mae</th><th style=\"text-align: right;\">     rmsle</th></tr>\n",
       "</thead>\n",
       "<tbody>\n",
       "<tr><td>DeepLearning_1_AutoML_20191124_154419             </td><td style=\"text-align: right;\">             1.18412e+06</td><td style=\"text-align: right;\">1088.17</td><td style=\"text-align: right;\">1.18412e+06</td><td style=\"text-align: right;\">765.008</td><td style=\"text-align: right;\">nan       </td></tr>\n",
       "<tr><td>StackedEnsemble_AllModels_AutoML_20191124_154419  </td><td style=\"text-align: right;\">             1.19273e+06</td><td style=\"text-align: right;\">1092.12</td><td style=\"text-align: right;\">1.19273e+06</td><td style=\"text-align: right;\">773.697</td><td style=\"text-align: right;\">  0.570778</td></tr>\n",
       "<tr><td>GBM_grid_1_AutoML_20191124_154419_model_10        </td><td style=\"text-align: right;\">             1.20725e+06</td><td style=\"text-align: right;\">1098.75</td><td style=\"text-align: right;\">1.20725e+06</td><td style=\"text-align: right;\">788.912</td><td style=\"text-align: right;\">  0.616202</td></tr>\n",
       "<tr><td>GBM_1_AutoML_20191124_154419                      </td><td style=\"text-align: right;\">             1.21566e+06</td><td style=\"text-align: right;\">1102.57</td><td style=\"text-align: right;\">1.21566e+06</td><td style=\"text-align: right;\">772.853</td><td style=\"text-align: right;\">nan       </td></tr>\n",
       "<tr><td>DeepLearning_grid_1_AutoML_20191124_154419_model_2</td><td style=\"text-align: right;\">             1.23193e+06</td><td style=\"text-align: right;\">1109.92</td><td style=\"text-align: right;\">1.23193e+06</td><td style=\"text-align: right;\">803.021</td><td style=\"text-align: right;\">nan       </td></tr>\n",
       "<tr><td>GBM_5_AutoML_20191124_154419                      </td><td style=\"text-align: right;\">             1.23934e+06</td><td style=\"text-align: right;\">1113.26</td><td style=\"text-align: right;\">1.23934e+06</td><td style=\"text-align: right;\">781.071</td><td style=\"text-align: right;\">nan       </td></tr>\n",
       "<tr><td>DRF_1_AutoML_20191124_154419                      </td><td style=\"text-align: right;\">             1.23948e+06</td><td style=\"text-align: right;\">1113.32</td><td style=\"text-align: right;\">1.23948e+06</td><td style=\"text-align: right;\">776.937</td><td style=\"text-align: right;\">  0.544935</td></tr>\n",
       "<tr><td>GBM_grid_1_AutoML_20191124_154419_model_7         </td><td style=\"text-align: right;\">             1.24086e+06</td><td style=\"text-align: right;\">1113.94</td><td style=\"text-align: right;\">1.24086e+06</td><td style=\"text-align: right;\">780.947</td><td style=\"text-align: right;\">  0.553622</td></tr>\n",
       "<tr><td>XRT_1_AutoML_20191124_154419                      </td><td style=\"text-align: right;\">             1.24737e+06</td><td style=\"text-align: right;\">1116.86</td><td style=\"text-align: right;\">1.24737e+06</td><td style=\"text-align: right;\">779.321</td><td style=\"text-align: right;\">  0.547773</td></tr>\n",
       "<tr><td>GBM_2_AutoML_20191124_154419                      </td><td style=\"text-align: right;\">             1.25143e+06</td><td style=\"text-align: right;\">1118.67</td><td style=\"text-align: right;\">1.25143e+06</td><td style=\"text-align: right;\">785.477</td><td style=\"text-align: right;\">nan       </td></tr>\n",
       "</tbody>\n",
       "</table>"
      ]
     },
     "metadata": {},
     "output_type": "display_data"
    },
    {
     "data": {
      "text/plain": []
     },
     "execution_count": 42,
     "metadata": {},
     "output_type": "execute_result"
    }
   ],
   "source": [
    "lb=aml.leaderboard\n",
    "lb.head()\n"
   ]
  },
  {
   "cell_type": "code",
   "execution_count": 56,
   "metadata": {
    "scrolled": false
   },
   "outputs": [
    {
     "name": "stdout",
     "output_type": "stream",
     "text": [
      "Model Details\n",
      "=============\n",
      "H2ODeepLearningEstimator :  Deep Learning\n",
      "Model Key:  DeepLearning_1_AutoML_20191124_154419\n",
      "\n",
      "Status of Neuron Layers: predicting Item_Outlet_Sales, regression, gaussian distribution, Quadratic loss, 16,361 weights/biases, 233.3 KB, 88,813 training samples, mini-batch size 1\n",
      "\n"
     ]
    },
    {
     "data": {
      "text/html": [
       "<div style=\"overflow:auto\"><table style=\"width:50%\"><tr><td><b></b></td>\n",
       "<td><b>layer</b></td>\n",
       "<td><b>units</b></td>\n",
       "<td><b>type</b></td>\n",
       "<td><b>dropout</b></td>\n",
       "<td><b>l1</b></td>\n",
       "<td><b>l2</b></td>\n",
       "<td><b>mean_rate</b></td>\n",
       "<td><b>rate_rms</b></td>\n",
       "<td><b>momentum</b></td>\n",
       "<td><b>mean_weight</b></td>\n",
       "<td><b>weight_rms</b></td>\n",
       "<td><b>mean_bias</b></td>\n",
       "<td><b>bias_rms</b></td></tr>\n",
       "<tr><td></td>\n",
       "<td>1</td>\n",
       "<td>1612</td>\n",
       "<td>Input</td>\n",
       "<td>0.0</td>\n",
       "<td></td>\n",
       "<td></td>\n",
       "<td></td>\n",
       "<td></td>\n",
       "<td></td>\n",
       "<td></td>\n",
       "<td></td>\n",
       "<td></td>\n",
       "<td></td></tr>\n",
       "<tr><td></td>\n",
       "<td>2</td>\n",
       "<td>10</td>\n",
       "<td>Rectifier</td>\n",
       "<td>0.0</td>\n",
       "<td>0.0</td>\n",
       "<td>0.0</td>\n",
       "<td>0.0240641</td>\n",
       "<td>0.1324067</td>\n",
       "<td>0.0</td>\n",
       "<td>0.0002368</td>\n",
       "<td>0.0442857</td>\n",
       "<td>0.2546116</td>\n",
       "<td>0.4926355</td></tr>\n",
       "<tr><td></td>\n",
       "<td>3</td>\n",
       "<td>10</td>\n",
       "<td>Rectifier</td>\n",
       "<td>0.0</td>\n",
       "<td>0.0</td>\n",
       "<td>0.0</td>\n",
       "<td>0.0049635</td>\n",
       "<td>0.0059583</td>\n",
       "<td>0.0</td>\n",
       "<td>-0.0034262</td>\n",
       "<td>0.3441881</td>\n",
       "<td>0.9339163</td>\n",
       "<td>0.1032268</td></tr>\n",
       "<tr><td></td>\n",
       "<td>4</td>\n",
       "<td>10</td>\n",
       "<td>Rectifier</td>\n",
       "<td>0.0</td>\n",
       "<td>0.0</td>\n",
       "<td>0.0</td>\n",
       "<td>0.0166408</td>\n",
       "<td>0.0461300</td>\n",
       "<td>0.0</td>\n",
       "<td>-0.0675882</td>\n",
       "<td>0.3494480</td>\n",
       "<td>0.9494968</td>\n",
       "<td>0.0775924</td></tr>\n",
       "<tr><td></td>\n",
       "<td>5</td>\n",
       "<td>1</td>\n",
       "<td>Linear</td>\n",
       "<td></td>\n",
       "<td>0.0</td>\n",
       "<td>0.0</td>\n",
       "<td>0.0016782</td>\n",
       "<td>0.0016959</td>\n",
       "<td>0.0</td>\n",
       "<td>0.0178856</td>\n",
       "<td>0.3859245</td>\n",
       "<td>0.0210489</td>\n",
       "<td>0.0000000</td></tr></table></div>"
      ],
      "text/plain": [
       "    layer    units    type       dropout    l1    l2    mean_rate              rate_rms               momentum    mean_weight             weight_rms           mean_bias            bias_rms\n",
       "--  -------  -------  ---------  ---------  ----  ----  ---------------------  ---------------------  ----------  ----------------------  -------------------  -------------------  -----------------------\n",
       "    1        1612     Input      0.0\n",
       "    2        10       Rectifier  0.0        0.0   0.0   0.024064075011818422   0.13240665197372437    0.0         0.00023681800767671036  0.04428565502166748  0.25461159690020874  0.49263548851013184\n",
       "    3        10       Rectifier  0.0        0.0   0.0   0.004963526525825728   0.0059583429247140884  0.0         -0.0034261911641806364  0.3441880941390991   0.9339163366087615   0.10322675108909607\n",
       "    4        10       Rectifier  0.0        0.0   0.0   0.016640761845046655   0.04612995684146881    0.0         -0.06758820218965411    0.34944796562194824  0.9494968444929119   0.07759237289428711\n",
       "    5        1        Linear                0.0   0.0   0.0016781628168246244  0.0016958508640527725  0.0         0.017885593138635157    0.38592445850372314  0.02104891891432692  1.0971281125650402e-154"
      ]
     },
     "metadata": {},
     "output_type": "display_data"
    },
    {
     "name": "stdout",
     "output_type": "stream",
     "text": [
      "\n",
      "\n",
      "ModelMetricsRegression: deeplearning\n",
      "** Reported on train data. **\n",
      "\n",
      "MSE: 1084245.356318899\n",
      "RMSE: 1041.2710292324948\n",
      "MAE: 724.2020561553131\n",
      "RMSLE: NaN\n",
      "Mean Residual Deviance: 1084245.356318899\n",
      "\n",
      "ModelMetricsRegression: deeplearning\n",
      "** Reported on cross-validation data. **\n",
      "\n",
      "MSE: 1184117.691595343\n",
      "RMSE: 1088.1717197186035\n",
      "MAE: 765.0081763144238\n",
      "RMSLE: NaN\n",
      "Mean Residual Deviance: 1184117.691595343\n",
      "Cross-Validation Metrics Summary: \n"
     ]
    },
    {
     "data": {
      "text/html": [
       "<div style=\"overflow:auto\"><table style=\"width:50%\"><tr><td><b></b></td>\n",
       "<td><b>mean</b></td>\n",
       "<td><b>sd</b></td>\n",
       "<td><b>cv_1_valid</b></td>\n",
       "<td><b>cv_2_valid</b></td>\n",
       "<td><b>cv_3_valid</b></td>\n",
       "<td><b>cv_4_valid</b></td>\n",
       "<td><b>cv_5_valid</b></td></tr>\n",
       "<tr><td>mae</td>\n",
       "<td>765.0093</td>\n",
       "<td>14.443698</td>\n",
       "<td>764.58716</td>\n",
       "<td>785.0062</td>\n",
       "<td>735.9707</td>\n",
       "<td>789.7178</td>\n",
       "<td>749.7646</td></tr>\n",
       "<tr><td>mean_residual_deviance</td>\n",
       "<td>1184124.5</td>\n",
       "<td>46394.367</td>\n",
       "<td>1161879.6</td>\n",
       "<td>1244618.8</td>\n",
       "<td>1087586.9</td>\n",
       "<td>1269623.4</td>\n",
       "<td>1156914.0</td></tr>\n",
       "<tr><td>mse</td>\n",
       "<td>1184124.5</td>\n",
       "<td>46394.367</td>\n",
       "<td>1161879.6</td>\n",
       "<td>1244618.8</td>\n",
       "<td>1087586.9</td>\n",
       "<td>1269623.4</td>\n",
       "<td>1156914.0</td></tr>\n",
       "<tr><td>r2</td>\n",
       "<td>0.5931572</td>\n",
       "<td>0.0116889</td>\n",
       "<td>0.6105037</td>\n",
       "<td>0.5905486</td>\n",
       "<td>0.5938799</td>\n",
       "<td>0.5637639</td>\n",
       "<td>0.6070898</td></tr>\n",
       "<tr><td>residual_deviance</td>\n",
       "<td>1184124.5</td>\n",
       "<td>46394.367</td>\n",
       "<td>1161879.6</td>\n",
       "<td>1244618.8</td>\n",
       "<td>1087586.9</td>\n",
       "<td>1269623.4</td>\n",
       "<td>1156914.0</td></tr>\n",
       "<tr><td>rmse</td>\n",
       "<td>1087.7559</td>\n",
       "<td>21.35039</td>\n",
       "<td>1077.9053</td>\n",
       "<td>1115.6249</td>\n",
       "<td>1042.8744</td>\n",
       "<td>1126.7756</td>\n",
       "<td>1075.5994</td></tr>\n",
       "<tr><td>rmsle</td>\n",
       "<td>0.5562651</td>\n",
       "<td>0.0146565</td>\n",
       "<td>0.580092</td>\n",
       "<td>NaN</td>\n",
       "<td>0.5423927</td>\n",
       "<td>NaN</td>\n",
       "<td>0.5463106</td></tr></table></div>"
      ],
      "text/plain": [
       "                        mean         sd         cv_1_valid    cv_2_valid    cv_3_valid    cv_4_valid    cv_5_valid\n",
       "----------------------  -----------  ---------  ------------  ------------  ------------  ------------  ------------\n",
       "mae                     765.009      14.4437    764.587       785.006       735.971       789.718       749.765\n",
       "mean_residual_deviance  1.18412e+06  46394.4    1.16188e+06   1.24462e+06   1.08759e+06   1.26962e+06   1.15691e+06\n",
       "mse                     1.18412e+06  46394.4    1.16188e+06   1.24462e+06   1.08759e+06   1.26962e+06   1.15691e+06\n",
       "r2                      0.593157     0.0116889  0.610504      0.590549      0.59388       0.563764      0.60709\n",
       "residual_deviance       1.18412e+06  46394.4    1.16188e+06   1.24462e+06   1.08759e+06   1.26962e+06   1.15691e+06\n",
       "rmse                    1087.76      21.3504    1077.91       1115.62       1042.87       1126.78       1075.6\n",
       "rmsle                   0.556265     0.0146565  0.580092      nan           0.542393      nan           0.546311"
      ]
     },
     "metadata": {},
     "output_type": "display_data"
    },
    {
     "name": "stdout",
     "output_type": "stream",
     "text": [
      "Scoring History: \n"
     ]
    },
    {
     "data": {
      "text/html": [
       "<div style=\"overflow:auto\"><table style=\"width:50%\"><tr><td><b></b></td>\n",
       "<td><b>timestamp</b></td>\n",
       "<td><b>duration</b></td>\n",
       "<td><b>training_speed</b></td>\n",
       "<td><b>epochs</b></td>\n",
       "<td><b>iterations</b></td>\n",
       "<td><b>samples</b></td>\n",
       "<td><b>training_rmse</b></td>\n",
       "<td><b>training_deviance</b></td>\n",
       "<td><b>training_mae</b></td>\n",
       "<td><b>training_r2</b></td></tr>\n",
       "<tr><td></td>\n",
       "<td>2019-11-24 15:44:50</td>\n",
       "<td> 0.000 sec</td>\n",
       "<td>None</td>\n",
       "<td>0.0</td>\n",
       "<td>0</td>\n",
       "<td>0.0</td>\n",
       "<td>nan</td>\n",
       "<td>nan</td>\n",
       "<td>nan</td>\n",
       "<td>nan</td></tr>\n",
       "<tr><td></td>\n",
       "<td>2019-11-24 15:44:50</td>\n",
       "<td> 3.679 sec</td>\n",
       "<td>107265 obs/sec</td>\n",
       "<td>1.0445852</td>\n",
       "<td>1</td>\n",
       "<td>8903.0</td>\n",
       "<td>1080.7838736</td>\n",
       "<td>1168093.7814787</td>\n",
       "<td>764.0573465</td>\n",
       "<td>0.5988412</td></tr>\n",
       "<tr><td></td>\n",
       "<td>2019-11-24 15:44:51</td>\n",
       "<td> 4.595 sec</td>\n",
       "<td>96431 obs/sec</td>\n",
       "<td>10.4203919</td>\n",
       "<td>10</td>\n",
       "<td>88813.0</td>\n",
       "<td>1041.2710292</td>\n",
       "<td>1084245.3563189</td>\n",
       "<td>724.2020562</td>\n",
       "<td>0.6276373</td></tr></table></div>"
      ],
      "text/plain": [
       "    timestamp            duration    training_speed    epochs    iterations    samples    training_rmse    training_deviance    training_mae    training_r2\n",
       "--  -------------------  ----------  ----------------  --------  ------------  ---------  ---------------  -------------------  --------------  -------------\n",
       "    2019-11-24 15:44:50  0.000 sec                     0         0             0          nan              nan                  nan             nan\n",
       "    2019-11-24 15:44:50  3.679 sec   107265 obs/sec    1.04459   1             8903       1080.78          1.16809e+06          764.057         0.598841\n",
       "    2019-11-24 15:44:51  4.595 sec   96431 obs/sec     10.4204   10            88813      1041.27          1.08425e+06          724.202         0.627637"
      ]
     },
     "metadata": {},
     "output_type": "display_data"
    },
    {
     "name": "stdout",
     "output_type": "stream",
     "text": [
      "Variable Importances: \n"
     ]
    },
    {
     "data": {
      "text/html": [
       "<div style=\"overflow:auto\"><table style=\"width:50%\"><tr><td><b>variable</b></td>\n",
       "<td><b>relative_importance</b></td>\n",
       "<td><b>scaled_importance</b></td>\n",
       "<td><b>percentage</b></td></tr>\n",
       "<tr><td>Outlet_Type.Grocery Store</td>\n",
       "<td>1.0</td>\n",
       "<td>1.0</td>\n",
       "<td>0.0051084</td></tr>\n",
       "<tr><td>Item_MRP</td>\n",
       "<td>0.9536538</td>\n",
       "<td>0.9536538</td>\n",
       "<td>0.0048717</td></tr>\n",
       "<tr><td>Outlet_Identifier.OUT019</td>\n",
       "<td>0.5351811</td>\n",
       "<td>0.5351811</td>\n",
       "<td>0.0027339</td></tr>\n",
       "<tr><td>Outlet_Type.Supermarket Type3</td>\n",
       "<td>0.5031037</td>\n",
       "<td>0.5031037</td>\n",
       "<td>0.0025701</td></tr>\n",
       "<tr><td>Outlet_Type.Supermarket Type1</td>\n",
       "<td>0.5007600</td>\n",
       "<td>0.5007600</td>\n",
       "<td>0.0025581</td></tr>\n",
       "<tr><td>---</td>\n",
       "<td>---</td>\n",
       "<td>---</td>\n",
       "<td>---</td></tr>\n",
       "<tr><td>Outlet_Identifier.missing(NA)</td>\n",
       "<td>0.0</td>\n",
       "<td>0.0</td>\n",
       "<td>0.0</td></tr>\n",
       "<tr><td>Item_Fat_Content.missing(NA)</td>\n",
       "<td>0.0</td>\n",
       "<td>0.0</td>\n",
       "<td>0.0</td></tr>\n",
       "<tr><td>Outlet_Size.missing(NA)</td>\n",
       "<td>0.0</td>\n",
       "<td>0.0</td>\n",
       "<td>0.0</td></tr>\n",
       "<tr><td>Outlet_Type.missing(NA)</td>\n",
       "<td>0.0</td>\n",
       "<td>0.0</td>\n",
       "<td>0.0</td></tr>\n",
       "<tr><td>Outlet_Location_Type.missing(NA)</td>\n",
       "<td>0.0</td>\n",
       "<td>0.0</td>\n",
       "<td>0.0</td></tr></table></div>"
      ],
      "text/plain": [
       "variable                          relative_importance    scaled_importance    percentage\n",
       "--------------------------------  ---------------------  -------------------  --------------------\n",
       "Outlet_Type.Grocery Store         1.0                    1.0                  0.005108420855565287\n",
       "Item_MRP                          0.9536537528038025     0.9536537528038025   0.004871664719811047\n",
       "Outlet_Identifier.OUT019          0.5351811051368713     0.5351811051368713   0.002733930318985672\n",
       "Outlet_Type.Supermarket Type3     0.5031037330627441     0.5031037330627441   0.002570065602490473\n",
       "Outlet_Type.Supermarket Type1     0.5007599592208862     0.5007599592208862   0.002558092619315998\n",
       "---                               ---                    ---                  ---\n",
       "Outlet_Identifier.missing(NA)     0.0                    0.0                  0.0\n",
       "Item_Fat_Content.missing(NA)      0.0                    0.0                  0.0\n",
       "Outlet_Size.missing(NA)           0.0                    0.0                  0.0\n",
       "Outlet_Type.missing(NA)           0.0                    0.0                  0.0\n",
       "Outlet_Location_Type.missing(NA)  0.0                    0.0                  0.0"
      ]
     },
     "metadata": {},
     "output_type": "display_data"
    },
    {
     "name": "stdout",
     "output_type": "stream",
     "text": [
      "\n",
      "See the whole table with table.as_data_frame()\n"
     ]
    },
    {
     "data": {
      "text/plain": []
     },
     "execution_count": 56,
     "metadata": {},
     "output_type": "execute_result"
    }
   ],
   "source": [
    "aml.leader"
   ]
  },
  {
   "cell_type": "code",
   "execution_count": 53,
   "metadata": {},
   "outputs": [
    {
     "ename": "AttributeError",
     "evalue": "type object 'H2ODeepLearningEstimator' has no attribute 'to_csv'",
     "output_type": "error",
     "traceback": [
      "\u001b[1;31m---------------------------------------------------------------------------\u001b[0m",
      "\u001b[1;31mAttributeError\u001b[0m                            Traceback (most recent call last)",
      "\u001b[1;32m<ipython-input-53-bc7a99a9b76c>\u001b[0m in \u001b[0;36m<module>\u001b[1;34m\u001b[0m\n\u001b[1;32m----> 1\u001b[1;33m \u001b[0mp\u001b[0m\u001b[1;33m.\u001b[0m\u001b[0mto_csv\u001b[0m\u001b[1;33m(\u001b[0m\u001b[1;34mr'C:\\Users\\Darshika Rajasekaran\\Desktop\\fall 2019\\directed reading\\leaderboard.txt'\u001b[0m\u001b[1;33m,\u001b[0m \u001b[0mheader\u001b[0m\u001b[1;33m=\u001b[0m\u001b[1;32mNone\u001b[0m\u001b[1;33m,\u001b[0m \u001b[0mindex\u001b[0m\u001b[1;33m=\u001b[0m\u001b[1;32mNone\u001b[0m\u001b[1;33m,\u001b[0m \u001b[0msep\u001b[0m\u001b[1;33m=\u001b[0m\u001b[1;34m' '\u001b[0m\u001b[1;33m,\u001b[0m \u001b[0mmode\u001b[0m\u001b[1;33m=\u001b[0m\u001b[1;34m'a'\u001b[0m\u001b[1;33m)\u001b[0m\u001b[1;33m\u001b[0m\u001b[1;33m\u001b[0m\u001b[0m\n\u001b[0m",
      "\u001b[1;32m~\\Anaconda3\\envs\\py36\\lib\\site-packages\\h2o\\utils\\backward_compatibility.py\u001b[0m in \u001b[0;36m__getattr__\u001b[1;34m(self, item)\u001b[0m\n\u001b[0;32m     72\u001b[0m             \u001b[1;32mreturn\u001b[0m \u001b[0mself\u001b[0m\u001b[1;33m.\u001b[0m\u001b[0m_bcin\u001b[0m\u001b[1;33m[\u001b[0m\u001b[0mitem\u001b[0m\u001b[1;33m]\u001b[0m\u001b[1;33m\u001b[0m\u001b[1;33m\u001b[0m\u001b[0m\n\u001b[0;32m     73\u001b[0m         \u001b[1;31m# Make sure that we look up any names not found on the instance also in the class\u001b[0m\u001b[1;33m\u001b[0m\u001b[1;33m\u001b[0m\u001b[1;33m\u001b[0m\u001b[0m\n\u001b[1;32m---> 74\u001b[1;33m         \u001b[1;32mreturn\u001b[0m \u001b[0mgetattr\u001b[0m\u001b[1;33m(\u001b[0m\u001b[0mself\u001b[0m\u001b[1;33m.\u001b[0m\u001b[0m__class__\u001b[0m\u001b[1;33m,\u001b[0m \u001b[0mitem\u001b[0m\u001b[1;33m)\u001b[0m\u001b[1;33m\u001b[0m\u001b[1;33m\u001b[0m\u001b[0m\n\u001b[0m\u001b[0;32m     75\u001b[0m \u001b[1;33m\u001b[0m\u001b[0m\n\u001b[0;32m     76\u001b[0m \u001b[1;33m\u001b[0m\u001b[0m\n",
      "\u001b[1;32m~\\Anaconda3\\envs\\py36\\lib\\site-packages\\h2o\\utils\\backward_compatibility.py\u001b[0m in \u001b[0;36m__getattribute__\u001b[1;34m(cls, name)\u001b[0m\n\u001b[0;32m     47\u001b[0m                 \u001b[1;31m# print(\"Warning: Method %s in class %s is deprecated.\" % (name, cls.__name__))\u001b[0m\u001b[1;33m\u001b[0m\u001b[1;33m\u001b[0m\u001b[1;33m\u001b[0m\u001b[0m\n\u001b[0;32m     48\u001b[0m                 \u001b[1;32mreturn\u001b[0m \u001b[0mbc\u001b[0m\u001b[1;33m[\u001b[0m\u001b[1;34m\"sm\"\u001b[0m\u001b[1;33m]\u001b[0m\u001b[1;33m[\u001b[0m\u001b[0mname\u001b[0m\u001b[1;33m]\u001b[0m\u001b[1;33m\u001b[0m\u001b[1;33m\u001b[0m\u001b[0m\n\u001b[1;32m---> 49\u001b[1;33m         \u001b[1;32mreturn\u001b[0m \u001b[0mtype\u001b[0m\u001b[1;33m.\u001b[0m\u001b[0m__getattribute__\u001b[0m\u001b[1;33m(\u001b[0m\u001b[0mcls\u001b[0m\u001b[1;33m,\u001b[0m \u001b[0mname\u001b[0m\u001b[1;33m)\u001b[0m\u001b[1;33m\u001b[0m\u001b[1;33m\u001b[0m\u001b[0m\n\u001b[0m\u001b[0;32m     50\u001b[0m \u001b[1;33m\u001b[0m\u001b[0m\n\u001b[0;32m     51\u001b[0m     \u001b[1;32mdef\u001b[0m \u001b[0m__setattr__\u001b[0m\u001b[1;33m(\u001b[0m\u001b[0mcls\u001b[0m\u001b[1;33m,\u001b[0m \u001b[0mname\u001b[0m\u001b[1;33m,\u001b[0m \u001b[0mvalue\u001b[0m\u001b[1;33m)\u001b[0m\u001b[1;33m:\u001b[0m\u001b[1;33m\u001b[0m\u001b[1;33m\u001b[0m\u001b[0m\n",
      "\u001b[1;31mAttributeError\u001b[0m: type object 'H2ODeepLearningEstimator' has no attribute 'to_csv'"
     ]
    }
   ],
   "source": [
    "(r'C:\\Users\\Darshika Rajasekaran\\Desktop\\fall 2019\\directed reading\\leaderboard.txt',)"
   ]
  },
  {
   "cell_type": "code",
   "execution_count": 55,
   "metadata": {},
   "outputs": [
    {
     "ename": "AttributeError",
     "evalue": "module 'h2o' has no attribute 'exportFile'",
     "output_type": "error",
     "traceback": [
      "\u001b[1;31m---------------------------------------------------------------------------\u001b[0m",
      "\u001b[1;31mAttributeError\u001b[0m                            Traceback (most recent call last)",
      "\u001b[1;32m<ipython-input-55-da32a96f10de>\u001b[0m in \u001b[0;36m<module>\u001b[1;34m\u001b[0m\n\u001b[1;32m----> 1\u001b[1;33m h2o.exportFile(p, 'C:/Users/Darshika Rajasekaran/Desktop/fall 2019/directed reading/leaderboard.txt', force = FALSE, sep = \",\",\n\u001b[0m\u001b[0;32m      2\u001b[0m   compression = NULL, parts = 1)\n",
      "\u001b[1;31mAttributeError\u001b[0m: module 'h2o' has no attribute 'exportFile'"
     ]
    }
   ],
   "source": [
    "h2o.exportFile(p, 'C:/Users/Darshika Rajasekaran/Desktop/fall 2019/directed reading/leaderboard.txt', force = FALSE, sep = \",\",\n",
    "  compression = NULL, parts = 1)"
   ]
  },
  {
   "cell_type": "code",
   "execution_count": 51,
   "metadata": {},
   "outputs": [
    {
     "data": {
      "text/plain": [
       "<h2o.automl.autoh2o.H2OAutoML at 0x1c46b501908>"
      ]
     },
     "execution_count": 51,
     "metadata": {},
     "output_type": "execute_result"
    }
   ],
   "source": [
    "aml"
   ]
  },
  {
   "cell_type": "code",
   "execution_count": 48,
   "metadata": {
    "scrolled": true
   },
   "outputs": [
    {
     "name": "stdout",
     "output_type": "stream",
     "text": [
      "deeplearning prediction progress: |███████████████████████████████████████| 100%\n"
     ]
    }
   ],
   "source": [
    "preds=aml.predict(test_set)"
   ]
  },
  {
   "cell_type": "code",
   "execution_count": 49,
   "metadata": {},
   "outputs": [
    {
     "data": {
      "text/html": [
       "<table>\n",
       "<thead>\n",
       "<tr><th style=\"text-align: right;\">  predict</th></tr>\n",
       "</thead>\n",
       "<tbody>\n",
       "<tr><td style=\"text-align: right;\"> 1697.6  </td></tr>\n",
       "<tr><td style=\"text-align: right;\"> 1502.86 </td></tr>\n",
       "<tr><td style=\"text-align: right;\">  785.145</td></tr>\n",
       "<tr><td style=\"text-align: right;\"> 2722.93 </td></tr>\n",
       "<tr><td style=\"text-align: right;\"> 6093.96 </td></tr>\n",
       "<tr><td style=\"text-align: right;\"> 1868.9  </td></tr>\n",
       "<tr><td style=\"text-align: right;\">  517.39 </td></tr>\n",
       "<tr><td style=\"text-align: right;\"> 2014.3  </td></tr>\n",
       "<tr><td style=\"text-align: right;\"> 1600.42 </td></tr>\n",
       "<tr><td style=\"text-align: right;\"> 3283.92 </td></tr>\n",
       "</tbody>\n",
       "</table>"
      ]
     },
     "metadata": {},
     "output_type": "display_data"
    },
    {
     "data": {
      "text/plain": []
     },
     "execution_count": 49,
     "metadata": {},
     "output_type": "execute_result"
    }
   ],
   "source": [
    "preds"
   ]
  }
 ],
 "metadata": {
  "kernelspec": {
   "display_name": "Python 3",
   "language": "python",
   "name": "python3"
  },
  "language_info": {
   "codemirror_mode": {
    "name": "ipython",
    "version": 3
   },
   "file_extension": ".py",
   "mimetype": "text/x-python",
   "name": "python",
   "nbconvert_exporter": "python",
   "pygments_lexer": "ipython3",
   "version": "3.6.9"
  }
 },
 "nbformat": 4,
 "nbformat_minor": 2
}
